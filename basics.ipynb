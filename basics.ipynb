{
 "cells": [
  {
   "cell_type": "markdown",
   "metadata": {},
   "source": [
    "# Surveys"
   ]
  },
  {
   "cell_type": "code",
   "execution_count": 1,
   "metadata": {
    "collapsed": true
   },
   "outputs": [],
   "source": [
    "from collections import Counter\n",
    "\n",
    "import numpy as np\n",
    "import pandas as pd"
   ]
  },
  {
   "cell_type": "markdown",
   "metadata": {},
   "source": [
    "## Loading data"
   ]
  },
  {
   "cell_type": "code",
   "execution_count": 2,
   "metadata": {},
   "outputs": [],
   "source": [
    "excel_file = pd.ExcelFile('data/Encuestas Lunes de Pascua 2017.xlsx')\n",
    "survey_df = excel_file.parse(1, names=list(range(20)))"
   ]
  },
  {
   "cell_type": "code",
   "execution_count": 3,
   "metadata": {},
   "outputs": [
    {
     "data": {
      "text/html": [
       "<div>\n",
       "<style>\n",
       "    .dataframe thead tr:only-child th {\n",
       "        text-align: right;\n",
       "    }\n",
       "\n",
       "    .dataframe thead th {\n",
       "        text-align: left;\n",
       "    }\n",
       "\n",
       "    .dataframe tbody tr th {\n",
       "        vertical-align: top;\n",
       "    }\n",
       "</style>\n",
       "<table border=\"1\" class=\"dataframe\">\n",
       "  <thead>\n",
       "    <tr style=\"text-align: right;\">\n",
       "      <th></th>\n",
       "      <th>0</th>\n",
       "      <th>1</th>\n",
       "      <th>2</th>\n",
       "      <th>3</th>\n",
       "      <th>4</th>\n",
       "      <th>5</th>\n",
       "      <th>6</th>\n",
       "      <th>7</th>\n",
       "      <th>8</th>\n",
       "      <th>9</th>\n",
       "      <th>10</th>\n",
       "      <th>11</th>\n",
       "      <th>12</th>\n",
       "      <th>13</th>\n",
       "      <th>14</th>\n",
       "      <th>15</th>\n",
       "      <th>16</th>\n",
       "      <th>17</th>\n",
       "      <th>18</th>\n",
       "      <th>19</th>\n",
       "    </tr>\n",
       "  </thead>\n",
       "  <tbody>\n",
       "    <tr>\n",
       "      <th>0</th>\n",
       "      <td>MONTERÍA</td>\n",
       "      <td>Luz Mery</td>\n",
       "      <td>Lachasme Jimenes</td>\n",
       "      <td>Estudiante-trabajador</td>\n",
       "      <td>25.0</td>\n",
       "      <td>Primaria</td>\n",
       "      <td>NaN</td>\n",
       "      <td>Montería</td>\n",
       "      <td>Córdoba</td>\n",
       "      <td>NaN</td>\n",
       "      <td>3234554559</td>\n",
       "      <td>villalbabianca@gmail.com</td>\n",
       "      <td>SI</td>\n",
       "      <td>Cada Semana</td>\n",
       "      <td>NO</td>\n",
       "      <td>NO</td>\n",
       "      <td>Otra: Visitar la familia</td>\n",
       "      <td>*Hacer trabajos Academicos.               *Otr...</td>\n",
       "      <td>NO</td>\n",
       "      <td>No sabía que lunes, martes y miercoles Santos ...</td>\n",
       "    </tr>\n",
       "    <tr>\n",
       "      <th>1</th>\n",
       "      <td>NaN</td>\n",
       "      <td>Juan Antonio</td>\n",
       "      <td>Santana Vega</td>\n",
       "      <td>Investigación de tipo cultural</td>\n",
       "      <td>70.0</td>\n",
       "      <td>Profesional</td>\n",
       "      <td>Crr 2a N° 46-16</td>\n",
       "      <td>Montería</td>\n",
       "      <td>Córdoba</td>\n",
       "      <td>7892234</td>\n",
       "      <td>3165815337</td>\n",
       "      <td>juansantave@hotamail.com</td>\n",
       "      <td>SI</td>\n",
       "      <td>Cada Semana</td>\n",
       "      <td>NO</td>\n",
       "      <td>SI</td>\n",
       "      <td>*Estudiar                        *Leer</td>\n",
       "      <td>*Hacer trabajos Academicos.               *Otr...</td>\n",
       "      <td>SI</td>\n",
       "      <td>Salio de viaje</td>\n",
       "    </tr>\n",
       "    <tr>\n",
       "      <th>2</th>\n",
       "      <td>NaN</td>\n",
       "      <td>Dora Isabel</td>\n",
       "      <td>Hernández Palma</td>\n",
       "      <td>Docente</td>\n",
       "      <td>31.0</td>\n",
       "      <td>Posgrado</td>\n",
       "      <td>Transv 14c N° 44-69</td>\n",
       "      <td>Montería</td>\n",
       "      <td>Córdoba</td>\n",
       "      <td>NaN</td>\n",
       "      <td>3017871058</td>\n",
       "      <td>doraisabel@hotmail.com</td>\n",
       "      <td>SI</td>\n",
       "      <td>Cada dos meses</td>\n",
       "      <td>NO</td>\n",
       "      <td>NO</td>\n",
       "      <td>Descansar</td>\n",
       "      <td>Hacer trabajos academicos</td>\n",
       "      <td>NO</td>\n",
       "      <td>No tuvo tiempo la semana pasada</td>\n",
       "    </tr>\n",
       "    <tr>\n",
       "      <th>3</th>\n",
       "      <td>NaN</td>\n",
       "      <td>Raimundo Enrique</td>\n",
       "      <td>Berrocal Escobar</td>\n",
       "      <td>Anciano</td>\n",
       "      <td>69.0</td>\n",
       "      <td>Posgrado</td>\n",
       "      <td>NaN</td>\n",
       "      <td>Montería</td>\n",
       "      <td>Córdoba</td>\n",
       "      <td>NaN</td>\n",
       "      <td>3015707300</td>\n",
       "      <td>NaN</td>\n",
       "      <td>SI</td>\n",
       "      <td>Cada Semana</td>\n",
       "      <td>SI</td>\n",
       "      <td>SI</td>\n",
       "      <td>Otra: Vagar</td>\n",
       "      <td>Para leer por gusto personal</td>\n",
       "      <td>NO</td>\n",
       "      <td>Otra: Porque me dio la gana</td>\n",
       "    </tr>\n",
       "    <tr>\n",
       "      <th>4</th>\n",
       "      <td>NaN</td>\n",
       "      <td>Francisco Javier</td>\n",
       "      <td>Bárcenas Fería</td>\n",
       "      <td>Estudiante</td>\n",
       "      <td>19.0</td>\n",
       "      <td>Profesional</td>\n",
       "      <td>NaN</td>\n",
       "      <td>Montería</td>\n",
       "      <td>Córdoba</td>\n",
       "      <td>7860931</td>\n",
       "      <td>3104990974</td>\n",
       "      <td>franjabafe11@gmail.com</td>\n",
       "      <td>SI</td>\n",
       "      <td>Cada Semana</td>\n",
       "      <td>SI</td>\n",
       "      <td>SI</td>\n",
       "      <td>*Estudiar                        *Leer        ...</td>\n",
       "      <td>*Hacer trabajos academicos                    ...</td>\n",
       "      <td>SI</td>\n",
       "      <td>*No tuvo tiempo la semana pasada              ...</td>\n",
       "    </tr>\n",
       "  </tbody>\n",
       "</table>\n",
       "</div>"
      ],
      "text/plain": [
       "         0                 1                 2   \\\n",
       "0  MONTERÍA          Luz Mery  Lachasme Jimenes   \n",
       "1       NaN      Juan Antonio      Santana Vega   \n",
       "2       NaN       Dora Isabel   Hernández Palma   \n",
       "3       NaN  Raimundo Enrique  Berrocal Escobar   \n",
       "4       NaN  Francisco Javier    Bárcenas Fería   \n",
       "\n",
       "                               3     4            5                    6   \\\n",
       "0           Estudiante-trabajador  25.0     Primaria                  NaN   \n",
       "1  Investigación de tipo cultural  70.0  Profesional      Crr 2a N° 46-16   \n",
       "2                         Docente  31.0     Posgrado  Transv 14c N° 44-69   \n",
       "3                         Anciano  69.0     Posgrado                  NaN   \n",
       "4                     Estudiante   19.0  Profesional                  NaN   \n",
       "\n",
       "         7        8        9           10                        11  12  \\\n",
       "0  Montería  Córdoba      NaN  3234554559  villalbabianca@gmail.com  SI   \n",
       "1  Montería  Córdoba  7892234  3165815337  juansantave@hotamail.com  SI   \n",
       "2  Montería  Córdoba      NaN  3017871058    doraisabel@hotmail.com  SI   \n",
       "3  Montería  Córdoba      NaN  3015707300                       NaN  SI   \n",
       "4  Montería  Córdoba  7860931  3104990974    franjabafe11@gmail.com  SI   \n",
       "\n",
       "               13  14  15                                                 16  \\\n",
       "0     Cada Semana  NO  NO                           Otra: Visitar la familia   \n",
       "1     Cada Semana  NO  SI             *Estudiar                        *Leer   \n",
       "2  Cada dos meses  NO  NO                                          Descansar   \n",
       "3     Cada Semana  SI  SI                                        Otra: Vagar   \n",
       "4     Cada Semana  SI  SI  *Estudiar                        *Leer        ...   \n",
       "\n",
       "                                                  17  18  \\\n",
       "0  *Hacer trabajos Academicos.               *Otr...  NO   \n",
       "1  *Hacer trabajos Academicos.               *Otr...  SI   \n",
       "2                          Hacer trabajos academicos  NO   \n",
       "3                       Para leer por gusto personal  NO   \n",
       "4  *Hacer trabajos academicos                    ...  SI   \n",
       "\n",
       "                                                  19  \n",
       "0  No sabía que lunes, martes y miercoles Santos ...  \n",
       "1                                     Salio de viaje  \n",
       "2                    No tuvo tiempo la semana pasada  \n",
       "3                        Otra: Porque me dio la gana  \n",
       "4  *No tuvo tiempo la semana pasada              ...  "
      ]
     },
     "execution_count": 3,
     "metadata": {},
     "output_type": "execute_result"
    }
   ],
   "source": [
    "survey_df.head()"
   ]
  },
  {
   "cell_type": "code",
   "execution_count": 4,
   "metadata": {},
   "outputs": [
    {
     "data": {
      "text/plain": [
       "(590, 20)"
      ]
     },
     "execution_count": 4,
     "metadata": {},
     "output_type": "execute_result"
    }
   ],
   "source": [
    "survey_df.shape"
   ]
  },
  {
   "cell_type": "code",
   "execution_count": 5,
   "metadata": {},
   "outputs": [],
   "source": [
    "col_names_dict = {\n",
    "    0: 'SUCURSAL',\n",
    "    1: 'NOMBRES',\n",
    "    2: 'APELLIDOS',\n",
    "    3: 'OCUPACION',\n",
    "    4: 'EDAD',\n",
    "    5: 'NIVEL_ESCOLAR_FINALIZADO',\n",
    "    6: 'DIRECCION',\n",
    "    7: 'MUNICIPIO',\n",
    "    8: 'DEPARTAMENTO',\n",
    "    9: 'TLFN_FIJO',\n",
    "    10: 'TLFN_CEL',\n",
    "    11: 'EMAIL',\n",
    "    12: '¿Es usted usuario frecuente del servicio de prestamo externos de material documental?',\n",
    "    13: 'Maque en la casilla correspondiente la frecuencia con la que hace uso del servicio de préstamo externo de material documental.',\n",
    "    14: 'Durante esta Semana Santa ¿Usted hizo uso del servicio de prestamo externo de material documental?',\n",
    "    15: '¿Sabía usted que la Red de Bibliotecas del Banco de la Republica prestó sus servicios en horario normal durante los dias lunes, martes y miercoles Santos?',\n",
    "    16: 'Los dias de l Semana Santa, habitualmente, usted los dedica a:',\n",
    "    17: '¿Los materiales que hoy toma en prestamo los utilizara para?',\n",
    "    18: 'Los materiales que toma en prestamo, este lunes de Pascua, le servirán para hacer trabajos que debe entregar esta misma semana?',\n",
    "    19: 'La razón por la que solo hoy se acerca a la Biblioteca a tomar en préstamo material documental es:',\n",
    "}"
   ]
  },
  {
   "cell_type": "code",
   "execution_count": 6,
   "metadata": {},
   "outputs": [],
   "source": [
    "male_names_df = pd.read_csv('data/nombres_hombres.csv')\n",
    "male_names_df.dropna(0, subset=['nombre'], inplace=True)"
   ]
  },
  {
   "cell_type": "code",
   "execution_count": 7,
   "metadata": {},
   "outputs": [
    {
     "data": {
      "text/plain": [
       "(25442, 3)"
      ]
     },
     "execution_count": 7,
     "metadata": {},
     "output_type": "execute_result"
    }
   ],
   "source": [
    "male_names_df.shape"
   ]
  },
  {
   "cell_type": "code",
   "execution_count": 8,
   "metadata": {},
   "outputs": [
    {
     "data": {
      "text/html": [
       "<div>\n",
       "<style>\n",
       "    .dataframe thead tr:only-child th {\n",
       "        text-align: right;\n",
       "    }\n",
       "\n",
       "    .dataframe thead th {\n",
       "        text-align: left;\n",
       "    }\n",
       "\n",
       "    .dataframe tbody tr th {\n",
       "        vertical-align: top;\n",
       "    }\n",
       "</style>\n",
       "<table border=\"1\" class=\"dataframe\">\n",
       "  <thead>\n",
       "    <tr style=\"text-align: right;\">\n",
       "      <th></th>\n",
       "      <th>nombre</th>\n",
       "      <th>frec</th>\n",
       "      <th>edad_media</th>\n",
       "    </tr>\n",
       "  </thead>\n",
       "  <tbody>\n",
       "    <tr>\n",
       "      <th>0</th>\n",
       "      <td>ANTONIO</td>\n",
       "      <td>765138</td>\n",
       "      <td>52.7</td>\n",
       "    </tr>\n",
       "    <tr>\n",
       "      <th>1</th>\n",
       "      <td>JOSE</td>\n",
       "      <td>706051</td>\n",
       "      <td>58.3</td>\n",
       "    </tr>\n",
       "    <tr>\n",
       "      <th>2</th>\n",
       "      <td>MANUEL</td>\n",
       "      <td>658306</td>\n",
       "      <td>52.5</td>\n",
       "    </tr>\n",
       "    <tr>\n",
       "      <th>3</th>\n",
       "      <td>FRANCISCO</td>\n",
       "      <td>572088</td>\n",
       "      <td>54.1</td>\n",
       "    </tr>\n",
       "    <tr>\n",
       "      <th>4</th>\n",
       "      <td>JUAN</td>\n",
       "      <td>395559</td>\n",
       "      <td>53.7</td>\n",
       "    </tr>\n",
       "  </tbody>\n",
       "</table>\n",
       "</div>"
      ],
      "text/plain": [
       "      nombre    frec  edad_media\n",
       "0    ANTONIO  765138        52.7\n",
       "1       JOSE  706051        58.3\n",
       "2     MANUEL  658306        52.5\n",
       "3  FRANCISCO  572088        54.1\n",
       "4       JUAN  395559        53.7"
      ]
     },
     "execution_count": 8,
     "metadata": {},
     "output_type": "execute_result"
    }
   ],
   "source": [
    "male_names_df.head()"
   ]
  },
  {
   "cell_type": "code",
   "execution_count": 9,
   "metadata": {
    "collapsed": true
   },
   "outputs": [],
   "source": [
    "female_names_df = pd.read_csv('data/nombres_mujeres.csv')\n",
    "female_names_df.dropna(0, subset=['nombre'], inplace=True)"
   ]
  },
  {
   "cell_type": "code",
   "execution_count": 10,
   "metadata": {},
   "outputs": [
    {
     "data": {
      "text/plain": [
       "(24493, 3)"
      ]
     },
     "execution_count": 10,
     "metadata": {},
     "output_type": "execute_result"
    }
   ],
   "source": [
    "female_names_df.shape"
   ]
  },
  {
   "cell_type": "code",
   "execution_count": 11,
   "metadata": {},
   "outputs": [
    {
     "data": {
      "text/html": [
       "<div>\n",
       "<style>\n",
       "    .dataframe thead tr:only-child th {\n",
       "        text-align: right;\n",
       "    }\n",
       "\n",
       "    .dataframe thead th {\n",
       "        text-align: left;\n",
       "    }\n",
       "\n",
       "    .dataframe tbody tr th {\n",
       "        vertical-align: top;\n",
       "    }\n",
       "</style>\n",
       "<table border=\"1\" class=\"dataframe\">\n",
       "  <thead>\n",
       "    <tr style=\"text-align: right;\">\n",
       "      <th></th>\n",
       "      <th>nombre</th>\n",
       "      <th>frec</th>\n",
       "      <th>edad_media</th>\n",
       "    </tr>\n",
       "  </thead>\n",
       "  <tbody>\n",
       "    <tr>\n",
       "      <th>0</th>\n",
       "      <td>MARIA CARMEN</td>\n",
       "      <td>681108</td>\n",
       "      <td>51.1</td>\n",
       "    </tr>\n",
       "    <tr>\n",
       "      <th>1</th>\n",
       "      <td>MARIA</td>\n",
       "      <td>668112</td>\n",
       "      <td>49.3</td>\n",
       "    </tr>\n",
       "    <tr>\n",
       "      <th>2</th>\n",
       "      <td>CARMEN</td>\n",
       "      <td>447130</td>\n",
       "      <td>59.5</td>\n",
       "    </tr>\n",
       "    <tr>\n",
       "      <th>3</th>\n",
       "      <td>JOSEFA</td>\n",
       "      <td>325874</td>\n",
       "      <td>64.1</td>\n",
       "    </tr>\n",
       "    <tr>\n",
       "      <th>4</th>\n",
       "      <td>ISABEL</td>\n",
       "      <td>296241</td>\n",
       "      <td>54.2</td>\n",
       "    </tr>\n",
       "  </tbody>\n",
       "</table>\n",
       "</div>"
      ],
      "text/plain": [
       "         nombre    frec  edad_media\n",
       "0  MARIA CARMEN  681108        51.1\n",
       "1         MARIA  668112        49.3\n",
       "2        CARMEN  447130        59.5\n",
       "3        JOSEFA  325874        64.1\n",
       "4        ISABEL  296241        54.2"
      ]
     },
     "execution_count": 11,
     "metadata": {},
     "output_type": "execute_result"
    }
   ],
   "source": [
    "female_names_df.head()"
   ]
  },
  {
   "cell_type": "markdown",
   "metadata": {},
   "source": [
    "## Transforming data"
   ]
  },
  {
   "cell_type": "markdown",
   "metadata": {},
   "source": [
    "### Sucursal"
   ]
  },
  {
   "cell_type": "code",
   "execution_count": 12,
   "metadata": {},
   "outputs": [],
   "source": [
    "last_sucursal = ''\n",
    "for i, row in survey_df.iterrows():\n",
    "    if row[0] is not np.nan:\n",
    "        last_sucursal = row[0]\n",
    "    else:\n",
    "        survey_df.loc[i, 0] = last_sucursal\n",
    "\n",
    "survey_df['SUCURSAL'] = survey_df[0]"
   ]
  },
  {
   "cell_type": "code",
   "execution_count": 13,
   "metadata": {},
   "outputs": [
    {
     "data": {
      "text/plain": [
       "IBAGUE           32\n",
       "San Andrés       31\n",
       "Leticia          31\n",
       "PASTO            30\n",
       "NEIVA            30\n",
       "GIRARDOT         30\n",
       "SINCELEJO        30\n",
       "IPIALES          30\n",
       "POPAYÁN          30\n",
       "TUNJA            30\n",
       "QUIBDÓ           30\n",
       "PEREIRA          30\n",
       "MANIZALES        28\n",
       "CARTAGENA        28\n",
       "VILLAVICENCIO    27\n",
       "VALLEDUPAR       25\n",
       "Florencia        24\n",
       "HONDA            18\n",
       "RIOHACHA         18\n",
       "BARRANQUILLA     16\n",
       "SANTA MARTA      14\n",
       "CÚCUTA           12\n",
       "MONTERÍA          9\n",
       "Medellín          7\n",
       "Name: SUCURSAL, dtype: int64"
      ]
     },
     "execution_count": 13,
     "metadata": {},
     "output_type": "execute_result"
    }
   ],
   "source": [
    "survey_df.SUCURSAL.value_counts()"
   ]
  },
  {
   "cell_type": "markdown",
   "metadata": {},
   "source": [
    "### Sexo"
   ]
  },
  {
   "cell_type": "code",
   "execution_count": 14,
   "metadata": {
    "collapsed": true
   },
   "outputs": [],
   "source": [
    "male_names = [x.strip().lower() for x in male_names_df.nombre.unique()]"
   ]
  },
  {
   "cell_type": "code",
   "execution_count": 15,
   "metadata": {},
   "outputs": [],
   "source": [
    "female_names = [x.strip().lower() for x in female_names_df.nombre.unique()]"
   ]
  },
  {
   "cell_type": "code",
   "execution_count": 16,
   "metadata": {},
   "outputs": [],
   "source": [
    "def clean(s):\n",
    "    return s \\\n",
    "        .strip() \\\n",
    "        .lower() \\\n",
    "        .replace('á', 'a') \\\n",
    "        .replace('é', 'e') \\\n",
    "        .replace('í', 'i') \\\n",
    "        .replace('ó', 'o') \\\n",
    "        .replace('ú', 'u') \\"
   ]
  },
  {
   "cell_type": "code",
   "execution_count": 17,
   "metadata": {},
   "outputs": [],
   "source": [
    "def get_gender(names):\n",
    "    names = clean(names)\n",
    "    first = names.split()[0]\n",
    "    if names in male_names:\n",
    "        gender = 'male'\n",
    "    elif names in female_names:\n",
    "        gender = 'female'\n",
    "    elif first in male_names:\n",
    "        gender = 'male'\n",
    "    elif first in female_names:\n",
    "        gender = 'female'\n",
    "    else:\n",
    "        gender = 'UNKNOWN'\n",
    "    return gender\n",
    "\n",
    "survey_df['SEXO'] = survey_df[1].apply(get_gender)"
   ]
  },
  {
   "cell_type": "code",
   "execution_count": 18,
   "metadata": {},
   "outputs": [
    {
     "data": {
      "text/plain": [
       "male       295\n",
       "female     235\n",
       "UNKNOWN     60\n",
       "Name: SEXO, dtype: int64"
      ]
     },
     "execution_count": 18,
     "metadata": {},
     "output_type": "execute_result"
    }
   ],
   "source": [
    "survey_df.SEXO.value_counts()"
   ]
  },
  {
   "cell_type": "markdown",
   "metadata": {},
   "source": [
    "### Rango edad"
   ]
  },
  {
   "cell_type": "code",
   "execution_count": 19,
   "metadata": {},
   "outputs": [],
   "source": [
    "def bins_to_labels(bins):\n",
    "    labels = []\n",
    "    labels.append('UNKNOWN'.format(bins[1]))\n",
    "    labels.append('{}-'.format(bins[2]))\n",
    "    for i in range(2, len(bins) - 2):\n",
    "        labels.append('{}-{}'.format(bins[i]+1, bins[i+1]))\n",
    "    labels.append('{}+'.format(bins[-2]+1))\n",
    "    return labels\n",
    "\n",
    "bins = [-2, -1, 17, 29, 39, 49, 64, 999]\n",
    "labels = bins_to_labels(bins)\n",
    "\n",
    "survey_df['RANGO_EDAD'] = pd.cut(survey_df[4], bins=bins, labels=labels)"
   ]
  },
  {
   "cell_type": "code",
   "execution_count": 20,
   "metadata": {},
   "outputs": [
    {
     "data": {
      "text/plain": [
       "18-29      288\n",
       "30-39      104\n",
       "17-         83\n",
       "50-64       48\n",
       "40-49       35\n",
       "65+         18\n",
       "UNKNOWN      0\n",
       "Name: RANGO_EDAD, dtype: int64"
      ]
     },
     "execution_count": 20,
     "metadata": {},
     "output_type": "execute_result"
    }
   ],
   "source": [
    "survey_df.RANGO_EDAD.value_counts()"
   ]
  },
  {
   "cell_type": "markdown",
   "metadata": {},
   "source": [
    "### Nivel escolar finalizado"
   ]
  },
  {
   "cell_type": "code",
   "execution_count": 21,
   "metadata": {},
   "outputs": [],
   "source": [
    "for i, row in survey_df[\n",
    "    (survey_df[5] != 'Primaria') &\n",
    "    (survey_df[5] != 'Secundaria') &\n",
    "    (survey_df[5] != 'Posgrado') &\n",
    "    (survey_df[5] != 'Profesional')\n",
    "].iterrows():\n",
    "    survey_df.loc[i, 5] = 'UNKNOWN'\n",
    "\n",
    "survey_df['NIVEL_ESCOLAR_FINALIZADO'] = survey_df[5]"
   ]
  },
  {
   "cell_type": "code",
   "execution_count": 22,
   "metadata": {},
   "outputs": [
    {
     "data": {
      "text/plain": [
       "Secundaria     266\n",
       "Profesional    180\n",
       "Posgrado        80\n",
       "Primaria        57\n",
       "UNKNOWN          7\n",
       "Name: NIVEL_ESCOLAR_FINALIZADO, dtype: int64"
      ]
     },
     "execution_count": 22,
     "metadata": {},
     "output_type": "execute_result"
    }
   ],
   "source": [
    "survey_df.NIVEL_ESCOLAR_FINALIZADO.value_counts()"
   ]
  },
  {
   "cell_type": "markdown",
   "metadata": {},
   "source": [
    "### Departamento"
   ]
  },
  {
   "cell_type": "code",
   "execution_count": 23,
   "metadata": {
    "collapsed": true
   },
   "outputs": [],
   "source": [
    "survey_df['DEPARTAMENTO'] = survey_df[7]"
   ]
  },
  {
   "cell_type": "code",
   "execution_count": 24,
   "metadata": {},
   "outputs": [
    {
     "data": {
      "text/plain": [
       "Ibagué                32\n",
       "San Andrés            30\n",
       "Quibdó                30\n",
       "Sincelejo             30\n",
       "Tunja                 28\n",
       "Leticia               28\n",
       "Ipiales               28\n",
       "Pasto                 27\n",
       "Villavicencio         27\n",
       "Popayán               27\n",
       "Manizales             27\n",
       "Cartagena             26\n",
       "Neiva                 26\n",
       "Valledupar            24\n",
       "Florencia             23\n",
       "Girardot              23\n",
       "Pereira               19\n",
       "Honda                 16\n",
       "Riohacha              15\n",
       "Barranquilla          14\n",
       "Santa Marta           12\n",
       "Cúcuta                11\n",
       "Dos Quebradas         10\n",
       "Montería               8\n",
       "Medellín               5\n",
       "Tabatinga              3\n",
       "Los Olivos             2\n",
       "El Espinal             2\n",
       "Aldana                 1\n",
       "Cajibio                1\n",
       "Tello                  1\n",
       "Buritaca               1\n",
       "Villamarín             1\n",
       "Bogotá                 1\n",
       "Socorro                1\n",
       "Melgar                 1\n",
       "Soledad                1\n",
       "Tocaima                1\n",
       "Soacha                 1\n",
       "Fonseca                1\n",
       "Flandes                1\n",
       "Malambo                1\n",
       "Envigado               1\n",
       "Duitama                1\n",
       "Camarones              1\n",
       "Bello                  1\n",
       "Puerto Bogotá          1\n",
       "Ricaurte               1\n",
       "Nariño                 1\n",
       "Cereté                 1\n",
       "Potosí                 1\n",
       "Doncello               1\n",
       "Totoro                 1\n",
       "Gigante                1\n",
       "San José de Cúcuta     1\n",
       "Name: DEPARTAMENTO, dtype: int64"
      ]
     },
     "execution_count": 24,
     "metadata": {},
     "output_type": "execute_result"
    }
   ],
   "source": [
    "survey_df.DEPARTAMENTO.value_counts()"
   ]
  },
  {
   "cell_type": "markdown",
   "metadata": {},
   "source": [
    "### Question 13"
   ]
  },
  {
   "cell_type": "code",
   "execution_count": 25,
   "metadata": {},
   "outputs": [],
   "source": [
    "def fix_13(x):\n",
    "    if x == 'Cada Semana':\n",
    "        r = 'Cada semana'\n",
    "    elif x == 'Una vez al mes' or x == 'Cada tres semanas' or x == 'Cada dos meses':\n",
    "        r = x\n",
    "    elif x == 'Otra: Cada dos semanas':\n",
    "        r = 'Cada dos semanas'\n",
    "    else:\n",
    "        r = 'OTHER'\n",
    "    return r\n",
    "\n",
    "survey_df[13] = survey_df[13].apply(fix_13)"
   ]
  },
  {
   "cell_type": "code",
   "execution_count": 26,
   "metadata": {},
   "outputs": [
    {
     "data": {
      "text/plain": [
       "Cada semana          256\n",
       "Una vez al mes       112\n",
       "Cada tres semanas     93\n",
       "Cada dos meses        63\n",
       "OTHER                 45\n",
       "Cada dos semanas      21\n",
       "Name: 13, dtype: int64"
      ]
     },
     "execution_count": 26,
     "metadata": {},
     "output_type": "execute_result"
    }
   ],
   "source": [
    "survey_df[13].value_counts()"
   ]
  },
  {
   "cell_type": "markdown",
   "metadata": {},
   "source": [
    "### Question 16"
   ]
  },
  {
   "cell_type": "code",
   "execution_count": 28,
   "metadata": {},
   "outputs": [],
   "source": [
    "def fix_16(x):\n",
    "    if x is np.nan:\n",
    "        aux = ['UNKNOWN']\n",
    "    elif '*' in x:\n",
    "        aux = [y.strip().lower() for y in x.split('*')[1:]]\n",
    "    else:\n",
    "        aux = [x.strip().lower()]\n",
    "    r = []\n",
    "    for y in aux:\n",
    "        if y == 'descansar' or y == 'leer' or y == 'estudiar' or y == 'pasear':\n",
    "            r.append(y)\n",
    "        elif y == 'otra: trabajar' or y == 'otra. trabajar':\n",
    "            r.append('trabajar')\n",
    "        elif 'orar' in y or 'oración' in y or 'catolicos' in y or 'iglesia' in y or 'misa' in y:\n",
    "            r.append('iglesia')\n",
    "        else:\n",
    "            r.append('OTHER')\n",
    "    return r\n",
    "\n",
    "survey_df[16] = survey_df[16].apply(fix_16)"
   ]
  },
  {
   "cell_type": "code",
   "execution_count": 29,
   "metadata": {},
   "outputs": [],
   "source": [
    "q16 = [y for x in survey_df[16] for y in x]"
   ]
  },
  {
   "cell_type": "code",
   "execution_count": 30,
   "metadata": {
    "collapsed": true
   },
   "outputs": [],
   "source": [
    "c16 = Counter(q16)"
   ]
  },
  {
   "cell_type": "code",
   "execution_count": 31,
   "metadata": {},
   "outputs": [
    {
     "data": {
      "text/plain": [
       "[('descansar', 309),\n",
       " ('leer', 308),\n",
       " ('estudiar', 165),\n",
       " ('pasear', 126),\n",
       " ('OTHER', 37),\n",
       " ('trabajar', 17),\n",
       " ('iglesia', 13)]"
      ]
     },
     "execution_count": 31,
     "metadata": {},
     "output_type": "execute_result"
    }
   ],
   "source": [
    "c16.most_common()"
   ]
  },
  {
   "cell_type": "markdown",
   "metadata": {},
   "source": [
    "### Question 17"
   ]
  },
  {
   "cell_type": "code",
   "execution_count": 37,
   "metadata": {
    "collapsed": true
   },
   "outputs": [],
   "source": [
    "def fix_17(x):\n",
    "    if x is np.nan:\n",
    "        aux = ['UNKNOWN']\n",
    "    elif '*' in x:\n",
    "        aux = [y.strip().lower() for y in x.split('*')[1:]]\n",
    "    else:\n",
    "        aux = [x.strip().lower()]\n",
    "    r = []\n",
    "    for y in aux:\n",
    "        if y == 'hacer trabajos academicos' or \\\n",
    "           y == 'para leer por gusto personal' or \\\n",
    "           y == 'como soporte para integración':\n",
    "            r.append(y)\n",
    "        elif y == 'como soporte para integracion':\n",
    "            r.append('como soporte para integración')\n",
    "        else:\n",
    "            r.append('OTHER')\n",
    "    return r\n",
    "\n",
    "survey_df[17] = survey_df[17].apply(fix_17)"
   ]
  },
  {
   "cell_type": "code",
   "execution_count": 38,
   "metadata": {
    "collapsed": true
   },
   "outputs": [],
   "source": [
    "q17 = [y for x in survey_df[17] for y in x]"
   ]
  },
  {
   "cell_type": "code",
   "execution_count": 39,
   "metadata": {
    "collapsed": true
   },
   "outputs": [],
   "source": [
    "c17 = Counter(q17)"
   ]
  },
  {
   "cell_type": "code",
   "execution_count": 40,
   "metadata": {},
   "outputs": [
    {
     "data": {
      "text/plain": [
       "[('hacer trabajos academicos', 340),\n",
       " ('para leer por gusto personal', 316),\n",
       " ('OTHER', 51),\n",
       " ('como soporte para integración', 47)]"
      ]
     },
     "execution_count": 40,
     "metadata": {},
     "output_type": "execute_result"
    }
   ],
   "source": [
    "c17.most_common()"
   ]
  },
  {
   "cell_type": "markdown",
   "metadata": {},
   "source": [
    "### Question 19"
   ]
  },
  {
   "cell_type": "code",
   "execution_count": 49,
   "metadata": {
    "collapsed": true
   },
   "outputs": [],
   "source": [
    "def fix_19(x):\n",
    "    if x is np.nan:\n",
    "        aux = ['UNKNOWN']\n",
    "    elif '*' in x:\n",
    "        aux = [y.strip().lower() for y in x.split('*')[1:]]\n",
    "    else:\n",
    "        aux = [x.strip().lower()]\n",
    "    r = []\n",
    "    for y in aux:\n",
    "        if y == 'no tuvo tiempo la semana pasada' or \\\n",
    "           y == 'no acostumbra hacer uso de este servicio durante la semana santa' or \\\n",
    "           y == 'no sabía que lunes, martes y miercoles santos se prestó este servicio en forma normal' or \\\n",
    "           y == 'salio de viaje' or \\\n",
    "           y == 'no queria comprometerse con el préstamo de material documental estos dias':\n",
    "            r.append(y)\n",
    "        else:\n",
    "            r.append('OTHER')\n",
    "    return r\n",
    "\n",
    "survey_df[19] = survey_df[19].apply(fix_19)"
   ]
  },
  {
   "cell_type": "code",
   "execution_count": 50,
   "metadata": {},
   "outputs": [],
   "source": [
    "q19 = [y for x in survey_df[19] for y in x]"
   ]
  },
  {
   "cell_type": "code",
   "execution_count": 51,
   "metadata": {},
   "outputs": [],
   "source": [
    "c19 = Counter(q19)"
   ]
  },
  {
   "cell_type": "code",
   "execution_count": 52,
   "metadata": {},
   "outputs": [
    {
     "data": {
      "text/plain": [
       "[('OTHER', 171),\n",
       " ('no tuvo tiempo la semana pasada', 139),\n",
       " ('no acostumbra hacer uso de este servicio durante la semana santa', 92),\n",
       " ('no sabía que lunes, martes y miercoles santos se prestó este servicio en forma normal',\n",
       "  85),\n",
       " ('salio de viaje', 76),\n",
       " ('no queria comprometerse con el préstamo de material documental estos dias',\n",
       "  39)]"
      ]
     },
     "execution_count": 52,
     "metadata": {},
     "output_type": "execute_result"
    }
   ],
   "source": [
    "c19.most_common()"
   ]
  },
  {
   "cell_type": "markdown",
   "metadata": {},
   "source": [
    "### Subset"
   ]
  },
  {
   "cell_type": "code",
   "execution_count": null,
   "metadata": {
    "collapsed": true
   },
   "outputs": [],
   "source": [
    "# survey_df = survey_df[\n",
    "#     ['SUCURSAL', 'SEXO', 'RANGO_EDAD', 'NIVEL_ESCOLAR_FINALIZADO', 'DEPARTAMENTO'] + range\n",
    "# ]"
   ]
  },
  {
   "cell_type": "code",
   "execution_count": null,
   "metadata": {
    "collapsed": true
   },
   "outputs": [],
   "source": []
  },
  {
   "cell_type": "code",
   "execution_count": null,
   "metadata": {
    "collapsed": true
   },
   "outputs": [],
   "source": []
  },
  {
   "cell_type": "code",
   "execution_count": null,
   "metadata": {
    "collapsed": true
   },
   "outputs": [],
   "source": []
  }
 ],
 "metadata": {
  "kernelspec": {
   "display_name": "Python 3",
   "language": "python",
   "name": "python3"
  },
  "language_info": {
   "codemirror_mode": {
    "name": "ipython",
    "version": 3
   },
   "file_extension": ".py",
   "mimetype": "text/x-python",
   "name": "python",
   "nbconvert_exporter": "python",
   "pygments_lexer": "ipython3",
   "version": "3.4.3"
  }
 },
 "nbformat": 4,
 "nbformat_minor": 2
}
